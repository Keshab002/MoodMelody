{
 "cells": [
  {
   "cell_type": "code",
   "execution_count": 1,
   "id": "3b0ff3f2",
   "metadata": {},
   "outputs": [
    {
     "name": "stderr",
     "output_type": "stream",
     "text": [
      "2023-11-12 17:20:29.373370: I tensorflow/core/platform/cpu_feature_guard.cc:193] This TensorFlow binary is optimized with oneAPI Deep Neural Network Library (oneDNN) to use the following CPU instructions in performance-critical operations:  AVX2 FMA\n",
      "To enable them in other operations, rebuild TensorFlow with the appropriate compiler flags.\n",
      "2023-11-12 17:20:30.069574: W tensorflow/compiler/xla/stream_executor/platform/default/dso_loader.cc:64] Could not load dynamic library 'libnvinfer.so.7'; dlerror: libnvinfer.so.7: cannot open shared object file: No such file or directory; LD_LIBRARY_PATH: /home/roronoa/.conda/envs/tf/lib/python3.7/site-packages/nvidia/cudnn/lib:/home/roronoa/.conda/envs/tf/lib/:\n",
      "2023-11-12 17:20:30.069665: W tensorflow/compiler/xla/stream_executor/platform/default/dso_loader.cc:64] Could not load dynamic library 'libnvinfer_plugin.so.7'; dlerror: libnvinfer_plugin.so.7: cannot open shared object file: No such file or directory; LD_LIBRARY_PATH: /home/roronoa/.conda/envs/tf/lib/python3.7/site-packages/nvidia/cudnn/lib:/home/roronoa/.conda/envs/tf/lib/:\n",
      "2023-11-12 17:20:30.069675: W tensorflow/compiler/tf2tensorrt/utils/py_utils.cc:38] TF-TRT Warning: Cannot dlopen some TensorRT libraries. If you would like to use Nvidia GPU with TensorRT, please make sure the missing libraries mentioned above are installed properly.\n"
     ]
    }
   ],
   "source": [
    "import tensorflow as tf\n",
    "from tensorflow.keras.applications import ResNet101\n",
    "from tensorflow.keras.layers import Dense, GlobalAveragePooling2D\n",
    "from tensorflow.keras.models import Model\n",
    "from tensorflow.keras.optimizers import Adam\n",
    "from tensorflow.keras.preprocessing.image import ImageDataGenerator\n",
    "from sklearn.metrics import classification_report, f1_score"
   ]
  },
  {
   "cell_type": "code",
   "execution_count": 2,
   "id": "fe9ef546",
   "metadata": {},
   "outputs": [],
   "source": [
    "# Data directories\n",
    "train_data_dir = '../Data/images/train'\n",
    "test_data_dir = '../Data/images/test'\n"
   ]
  },
  {
   "cell_type": "code",
   "execution_count": 3,
   "id": "b39378e4",
   "metadata": {},
   "outputs": [],
   "source": [
    "# Data generators with data augmentation\n",
    "train_datagen = ImageDataGenerator(\n",
    "    rescale=1.0/255.0,\n",
    "    rotation_range=10,\n",
    "    horizontal_flip=True,\n",
    "    zoom_range=0.1,\n",
    "    width_shift_range=0.1,\n",
    "    height_shift_range=0.1\n",
    ")\n",
    "test_datagen = ImageDataGenerator(rescale=1.0/255.0)\n"
   ]
  },
  {
   "cell_type": "code",
   "execution_count": 4,
   "id": "c0371397",
   "metadata": {},
   "outputs": [
    {
     "name": "stdout",
     "output_type": "stream",
     "text": [
      "Found 21077 images belonging to 4 classes.\n",
      "Found 5140 images belonging to 4 classes.\n"
     ]
    }
   ],
   "source": [
    "# Load data\n",
    "batch_size = 128\n",
    "train_generator = train_datagen.flow_from_directory(\n",
    "    train_data_dir,\n",
    "    target_size=(224, 224),\n",
    "    batch_size=batch_size,\n",
    "    class_mode='categorical'\n",
    ")\n",
    "\n",
    "test_generator = test_datagen.flow_from_directory(\n",
    "    test_data_dir,\n",
    "    target_size=(224, 224),\n",
    "    batch_size=batch_size,\n",
    "    class_mode='categorical',\n",
    "    shuffle=False\n",
    ")\n"
   ]
  },
  {
   "cell_type": "code",
   "execution_count": null,
   "metadata": {},
   "outputs": [],
   "source": []
  },
  {
   "cell_type": "code",
   "execution_count": 5,
   "id": "07f9c81e",
   "metadata": {},
   "outputs": [
    {
     "name": "stderr",
     "output_type": "stream",
     "text": [
      "2023-11-12 17:20:31.608384: I tensorflow/compiler/xla/stream_executor/cuda/cuda_gpu_executor.cc:981] successful NUMA node read from SysFS had negative value (-1), but there must be at least one NUMA node, so returning NUMA node zero\n",
      "2023-11-12 17:20:31.632160: I tensorflow/compiler/xla/stream_executor/cuda/cuda_gpu_executor.cc:981] successful NUMA node read from SysFS had negative value (-1), but there must be at least one NUMA node, so returning NUMA node zero\n",
      "2023-11-12 17:20:31.632401: I tensorflow/compiler/xla/stream_executor/cuda/cuda_gpu_executor.cc:981] successful NUMA node read from SysFS had negative value (-1), but there must be at least one NUMA node, so returning NUMA node zero\n",
      "2023-11-12 17:20:31.632932: I tensorflow/core/platform/cpu_feature_guard.cc:193] This TensorFlow binary is optimized with oneAPI Deep Neural Network Library (oneDNN) to use the following CPU instructions in performance-critical operations:  AVX2 FMA\n",
      "To enable them in other operations, rebuild TensorFlow with the appropriate compiler flags.\n",
      "2023-11-12 17:20:31.633620: I tensorflow/compiler/xla/stream_executor/cuda/cuda_gpu_executor.cc:981] successful NUMA node read from SysFS had negative value (-1), but there must be at least one NUMA node, so returning NUMA node zero\n",
      "2023-11-12 17:20:31.633808: I tensorflow/compiler/xla/stream_executor/cuda/cuda_gpu_executor.cc:981] successful NUMA node read from SysFS had negative value (-1), but there must be at least one NUMA node, so returning NUMA node zero\n",
      "2023-11-12 17:20:31.633978: I tensorflow/compiler/xla/stream_executor/cuda/cuda_gpu_executor.cc:981] successful NUMA node read from SysFS had negative value (-1), but there must be at least one NUMA node, so returning NUMA node zero\n",
      "2023-11-12 17:20:31.692119: I tensorflow/compiler/xla/stream_executor/cuda/cuda_gpu_executor.cc:981] successful NUMA node read from SysFS had negative value (-1), but there must be at least one NUMA node, so returning NUMA node zero\n",
      "2023-11-12 17:20:31.692342: I tensorflow/compiler/xla/stream_executor/cuda/cuda_gpu_executor.cc:981] successful NUMA node read from SysFS had negative value (-1), but there must be at least one NUMA node, so returning NUMA node zero\n",
      "2023-11-12 17:20:31.692535: I tensorflow/compiler/xla/stream_executor/cuda/cuda_gpu_executor.cc:981] successful NUMA node read from SysFS had negative value (-1), but there must be at least one NUMA node, so returning NUMA node zero\n",
      "2023-11-12 17:20:31.692676: I tensorflow/core/common_runtime/gpu/gpu_device.cc:1613] Created device /job:localhost/replica:0/task:0/device:GPU:0 with 2287 MB memory:  -> device: 0, name: NVIDIA GeForce RTX 3050 Laptop GPU, pci bus id: 0000:01:00.0, compute capability: 8.6\n"
     ]
    }
   ],
   "source": [
    "# Load the ResNet-101 model\n",
    "base_model = ResNet101(weights='imagenet', include_top=False)\n",
    "\n",
    "# Add a custom classification head\n",
    "x = base_model.output\n",
    "x = GlobalAveragePooling2D()(x)\n",
    "x = Dense(1024, activation='relu')(x)\n",
    "predictions = Dense(4, activation='softmax')(x)\n",
    "\n",
    "model = Model(inputs=base_model.input, outputs=predictions)"
   ]
  },
  {
   "cell_type": "code",
   "execution_count": 6,
   "id": "58fbd636",
   "metadata": {},
   "outputs": [],
   "source": [
    "# Freeze the pre-trained layers\n",
    "for layer in base_model.layers:\n",
    "    layer.trainable = False\n",
    "\n",
    "# Compile the model\n",
    "model.compile(optimizer=Adam(learning_rate=0.001), loss='categorical_crossentropy', metrics=['accuracy'])\n"
   ]
  },
  {
   "cell_type": "code",
   "execution_count": 7,
   "id": "3533301c",
   "metadata": {},
   "outputs": [
    {
     "name": "stdout",
     "output_type": "stream",
     "text": [
      "Epoch 1/25\n"
     ]
    },
    {
     "name": "stderr",
     "output_type": "stream",
     "text": [
      "2023-11-12 17:20:39.297284: I tensorflow/compiler/xla/stream_executor/cuda/cuda_dnn.cc:428] Loaded cuDNN version 8500\n",
      "2023-11-12 17:20:39.594680: I tensorflow/tsl/platform/default/subprocess.cc:304] Start cannot spawn child process: No such file or directory\n",
      "2023-11-12 17:20:40.460705: W tensorflow/tsl/framework/bfc_allocator.cc:290] Allocator (GPU_0_bfc) ran out of memory trying to allocate 1.56GiB with freed_by_count=0. The caller indicates that this is not a failure, but this may mean that there could be performance gains if more memory were available.\n",
      "2023-11-12 17:20:40.460740: W tensorflow/tsl/framework/bfc_allocator.cc:290] Allocator (GPU_0_bfc) ran out of memory trying to allocate 1.56GiB with freed_by_count=0. The caller indicates that this is not a failure, but this may mean that there could be performance gains if more memory were available.\n",
      "2023-11-12 17:20:42.100167: W tensorflow/tsl/framework/bfc_allocator.cc:290] Allocator (GPU_0_bfc) ran out of memory trying to allocate 2.41GiB with freed_by_count=0. The caller indicates that this is not a failure, but this may mean that there could be performance gains if more memory were available.\n",
      "2023-11-12 17:20:42.100206: W tensorflow/tsl/framework/bfc_allocator.cc:290] Allocator (GPU_0_bfc) ran out of memory trying to allocate 2.41GiB with freed_by_count=0. The caller indicates that this is not a failure, but this may mean that there could be performance gains if more memory were available.\n",
      "2023-11-12 17:20:42.200200: W tensorflow/tsl/framework/bfc_allocator.cc:290] Allocator (GPU_0_bfc) ran out of memory trying to allocate 2.83GiB with freed_by_count=0. The caller indicates that this is not a failure, but this may mean that there could be performance gains if more memory were available.\n",
      "2023-11-12 17:20:42.200233: W tensorflow/tsl/framework/bfc_allocator.cc:290] Allocator (GPU_0_bfc) ran out of memory trying to allocate 2.83GiB with freed_by_count=0. The caller indicates that this is not a failure, but this may mean that there could be performance gains if more memory were available.\n",
      "2023-11-12 17:20:42.289991: I tensorflow/compiler/xla/stream_executor/cuda/cuda_blas.cc:630] TensorFloat-32 will be used for the matrix multiplication. This will only be logged once.\n",
      "2023-11-12 17:20:42.301893: I tensorflow/compiler/xla/service/service.cc:173] XLA service 0x55b4d765ca80 initialized for platform CUDA (this does not guarantee that XLA will be used). Devices:\n",
      "2023-11-12 17:20:42.301915: I tensorflow/compiler/xla/service/service.cc:181]   StreamExecutor device (0): NVIDIA GeForce RTX 3050 Laptop GPU, Compute Capability 8.6\n",
      "2023-11-12 17:20:42.306326: I tensorflow/compiler/mlir/tensorflow/utils/dump_mlir_util.cc:268] disabling MLIR crash reproducer, set env var `MLIR_CRASH_REPRODUCER_DIRECTORY` to enable.\n",
      "2023-11-12 17:20:42.362250: I tensorflow/tsl/platform/default/subprocess.cc:304] Start cannot spawn child process: No such file or directory\n",
      "2023-11-12 17:20:42.397265: I tensorflow/compiler/jit/xla_compilation_cache.cc:477] Compiled cluster using XLA!  This line is logged at most once for the lifetime of the process.\n"
     ]
    },
    {
     "name": "stdout",
     "output_type": "stream",
     "text": [
      "133/164 [=======================>......] - ETA: 24s - loss: 1.4162 - accuracy: 0.3019"
     ]
    },
    {
     "name": "stderr",
     "output_type": "stream",
     "text": [
      "2023-11-12 17:22:28.296358: W tensorflow/tsl/framework/bfc_allocator.cc:290] Allocator (GPU_0_bfc) ran out of memory trying to allocate 2.36GiB with freed_by_count=0. The caller indicates that this is not a failure, but this may mean that there could be performance gains if more memory were available.\n",
      "2023-11-12 17:22:28.296400: W tensorflow/tsl/framework/bfc_allocator.cc:290] Allocator (GPU_0_bfc) ran out of memory trying to allocate 2.36GiB with freed_by_count=0. The caller indicates that this is not a failure, but this may mean that there could be performance gains if more memory were available.\n",
      "2023-11-12 17:22:28.375194: W tensorflow/tsl/framework/bfc_allocator.cc:290] Allocator (GPU_0_bfc) ran out of memory trying to allocate 2.64GiB with freed_by_count=0. The caller indicates that this is not a failure, but this may mean that there could be performance gains if more memory were available.\n",
      "2023-11-12 17:22:28.375226: W tensorflow/tsl/framework/bfc_allocator.cc:290] Allocator (GPU_0_bfc) ran out of memory trying to allocate 2.64GiB with freed_by_count=0. The caller indicates that this is not a failure, but this may mean that there could be performance gains if more memory were available.\n"
     ]
    },
    {
     "name": "stdout",
     "output_type": "stream",
     "text": [
      "164/164 [==============================] - 167s 978ms/step - loss: 1.4147 - accuracy: 0.3044 - val_loss: 1.3653 - val_accuracy: 0.3324\n",
      "Epoch 2/25\n",
      "164/164 [==============================] - 155s 939ms/step - loss: 1.3519 - accuracy: 0.3470 - val_loss: 1.3216 - val_accuracy: 0.4047\n",
      "Epoch 3/25\n",
      "164/164 [==============================] - 156s 946ms/step - loss: 1.3468 - accuracy: 0.3590 - val_loss: 1.3284 - val_accuracy: 0.3781\n",
      "Epoch 4/25\n",
      "164/164 [==============================] - 155s 944ms/step - loss: 1.3395 - accuracy: 0.3588 - val_loss: 1.3147 - val_accuracy: 0.3721\n",
      "Epoch 5/25\n",
      "164/164 [==============================] - 154s 938ms/step - loss: 1.3337 - accuracy: 0.3665 - val_loss: 1.3008 - val_accuracy: 0.3957\n",
      "Epoch 6/25\n",
      "164/164 [==============================] - 160s 975ms/step - loss: 1.3230 - accuracy: 0.3713 - val_loss: 1.3048 - val_accuracy: 0.3781\n",
      "Epoch 7/25\n",
      "164/164 [==============================] - 167s 1s/step - loss: 1.3243 - accuracy: 0.3713 - val_loss: 1.3015 - val_accuracy: 0.4160\n",
      "Epoch 8/25\n",
      "164/164 [==============================] - 173s 1s/step - loss: 1.3200 - accuracy: 0.3735 - val_loss: 1.3194 - val_accuracy: 0.3809\n",
      "Epoch 9/25\n",
      "164/164 [==============================] - 163s 990ms/step - loss: 1.3194 - accuracy: 0.3791 - val_loss: 1.2884 - val_accuracy: 0.4084\n",
      "Epoch 10/25\n",
      "164/164 [==============================] - 165s 1s/step - loss: 1.3219 - accuracy: 0.3783 - val_loss: 1.2948 - val_accuracy: 0.3820\n",
      "Epoch 11/25\n",
      "164/164 [==============================] - 163s 993ms/step - loss: 1.3279 - accuracy: 0.3683 - val_loss: 1.3044 - val_accuracy: 0.3906\n",
      "Epoch 12/25\n",
      "164/164 [==============================] - 164s 994ms/step - loss: 1.3220 - accuracy: 0.3767 - val_loss: 1.2905 - val_accuracy: 0.3859\n",
      "Epoch 13/25\n",
      "164/164 [==============================] - 165s 1s/step - loss: 1.3147 - accuracy: 0.3813 - val_loss: 1.2957 - val_accuracy: 0.3838\n",
      "Epoch 14/25\n",
      "164/164 [==============================] - 164s 996ms/step - loss: 1.3125 - accuracy: 0.3835 - val_loss: 1.2778 - val_accuracy: 0.4180\n",
      "Epoch 15/25\n",
      "164/164 [==============================] - 160s 972ms/step - loss: 1.3121 - accuracy: 0.3859 - val_loss: 1.2776 - val_accuracy: 0.4189\n",
      "Epoch 16/25\n",
      "164/164 [==============================] - 156s 950ms/step - loss: 1.3137 - accuracy: 0.3837 - val_loss: 1.3108 - val_accuracy: 0.3783\n",
      "Epoch 17/25\n",
      "164/164 [==============================] - 156s 947ms/step - loss: 1.3112 - accuracy: 0.3895 - val_loss: 1.2786 - val_accuracy: 0.4195\n",
      "Epoch 18/25\n",
      "164/164 [==============================] - 153s 927ms/step - loss: 1.3103 - accuracy: 0.3884 - val_loss: 1.2778 - val_accuracy: 0.4082\n",
      "Epoch 19/25\n",
      "164/164 [==============================] - 153s 927ms/step - loss: 1.3086 - accuracy: 0.3876 - val_loss: 1.2794 - val_accuracy: 0.4258\n",
      "Epoch 20/25\n",
      "164/164 [==============================] - 152s 926ms/step - loss: 1.3070 - accuracy: 0.3885 - val_loss: 1.2691 - val_accuracy: 0.4146\n",
      "Epoch 21/25\n",
      "164/164 [==============================] - 153s 927ms/step - loss: 1.3143 - accuracy: 0.3819 - val_loss: 1.2807 - val_accuracy: 0.4031\n",
      "Epoch 22/25\n",
      "164/164 [==============================] - 152s 926ms/step - loss: 1.3031 - accuracy: 0.3933 - val_loss: 1.2803 - val_accuracy: 0.4010\n",
      "Epoch 23/25\n",
      "164/164 [==============================] - 153s 932ms/step - loss: 1.3014 - accuracy: 0.3961 - val_loss: 1.2914 - val_accuracy: 0.3936\n",
      "Epoch 24/25\n",
      "164/164 [==============================] - 153s 932ms/step - loss: 1.3002 - accuracy: 0.3964 - val_loss: 1.2807 - val_accuracy: 0.4117\n",
      "Epoch 25/25\n",
      "164/164 [==============================] - 156s 948ms/step - loss: 1.3005 - accuracy: 0.3971 - val_loss: 1.3044 - val_accuracy: 0.3814\n"
     ]
    },
    {
     "data": {
      "text/plain": [
       "<keras.callbacks.History at 0x7f96ae0a2990>"
      ]
     },
     "execution_count": 7,
     "metadata": {},
     "output_type": "execute_result"
    }
   ],
   "source": [
    "# Train the model\n",
    "epochs = 25\n",
    "model.fit(\n",
    "    train_generator,\n",
    "    steps_per_epoch=train_generator.samples // batch_size,\n",
    "    epochs=epochs,\n",
    "    validation_data=test_generator,\n",
    "    validation_steps=test_generator.samples // batch_size\n",
    ")"
   ]
  },
  {
   "cell_type": "code",
   "execution_count": 8,
   "id": "e9f8a27f",
   "metadata": {},
   "outputs": [
    {
     "name": "stdout",
     "output_type": "stream",
     "text": [
      "41/41 [==============================] - 29s 705ms/step\n",
      "F1 Score: 0.25900311868044296\n",
      "              precision    recall  f1-score   support\n",
      "\n",
      "       angry       0.32      0.08      0.12       960\n",
      "       happy       0.38      0.96      0.54      1825\n",
      "     neutral       0.46      0.03      0.06      1216\n",
      "         sad       0.48      0.08      0.13      1139\n",
      "\n",
      "    accuracy                           0.38      5140\n",
      "   macro avg       0.41      0.29      0.21      5140\n",
      "weighted avg       0.41      0.38      0.26      5140\n",
      "\n"
     ]
    }
   ],
   "source": [
    "# Evaluation\n",
    "y_true = test_generator.classes\n",
    "y_pred = model.predict(test_generator)\n",
    "y_pred_classes = tf.argmax(y_pred, axis=1)\n",
    "\n",
    "f1 = f1_score(y_true, y_pred_classes, average='weighted')\n",
    "report = classification_report(y_true, y_pred_classes, target_names=test_generator.class_indices.keys())\n",
    "\n",
    "print(f'F1 Score: {f1}')\n",
    "print(report)\n"
   ]
  },
  {
   "cell_type": "code",
   "execution_count": null,
   "metadata": {},
   "outputs": [],
   "source": []
  }
 ],
 "metadata": {
  "kernelspec": {
   "display_name": "Python 3 (ipykernel)",
   "language": "python",
   "name": "python3"
  },
  "language_info": {
   "codemirror_mode": {
    "name": "ipython",
    "version": 3
   },
   "file_extension": ".py",
   "mimetype": "text/x-python",
   "name": "python",
   "nbconvert_exporter": "python",
   "pygments_lexer": "ipython3",
   "version": "3.7.5"
  }
 },
 "nbformat": 4,
 "nbformat_minor": 5
}
